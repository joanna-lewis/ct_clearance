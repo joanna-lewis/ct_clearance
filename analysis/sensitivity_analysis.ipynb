{
 "cells": [
  {
   "cell_type": "markdown",
   "metadata": {},
   "source": [
    "# Sensitivity analysis for two-component mixture-of-exponentials model"
   ]
  },
  {
   "cell_type": "markdown",
   "metadata": {},
   "source": [
    "## Full dataset\n",
    "\n",
    "Begin by running the model on the full dataset:"
   ]
  },
  {
   "cell_type": "code",
   "execution_count": 1,
   "metadata": {
    "collapsed": false
   },
   "outputs": [
    {
     "name": "stderr",
     "output_type": "stream",
     "text": [
      "Loading required package: ggplot2\n",
      "Loading required package: StanHeaders\n",
      "Warning message:\n",
      "\"package 'StanHeaders' was built under R version 3.2.5\"rstan (Version 2.12.1, packaged: 2016-09-11 13:07:50 UTC, GitRev: 85f7a56811da)\n",
      "For execution on a local, multicore CPU with excess RAM we recommend calling\n",
      "rstan_options(auto_write = TRUE)\n",
      "options(mc.cores = parallel::detectCores())\n"
     ]
    }
   ],
   "source": [
    "library(rstan)\n",
    "\n",
    "load(\"data_m.RData\")"
   ]
  },
  {
   "cell_type": "code",
   "execution_count": 2,
   "metadata": {
    "collapsed": false
   },
   "outputs": [
    {
     "name": "stdout",
     "output_type": "stream",
     "text": [
      "In file included from filedb77ddbe889.cpp:8:\n",
      "In file included from /Library/Frameworks/R.framework/Versions/3.2/Resources/library/StanHeaders/include/src/stan/model/model_header.hpp:4:\n",
      "In file included from /Library/Frameworks/R.framework/Versions/3.2/Resources/library/StanHeaders/include/stan/math.hpp:4:\n",
      "In file included from /Library/Frameworks/R.framework/Versions/3.2/Resources/library/StanHeaders/include/stan/math/rev/mat.hpp:4:\n",
      "In file included from /Library/Frameworks/R.framework/Versions/3.2/Resources/library/StanHeaders/include/stan/math/rev/core.hpp:42:\n",
      "/Library/Frameworks/R.framework/Versions/3.2/Resources/library/StanHeaders/include/stan/math/rev/core/set_zero_all_adjoints.hpp:14:17: warning: unused function 'set_zero_all_adjoints' [-Wunused-function]\n",
      "    static void set_zero_all_adjoints() {\n",
      "                ^\n",
      "In file included from filedb77ddbe889.cpp:8:\n",
      "In file included from /Library/Frameworks/R.framework/Versions/3.2/Resources/library/StanHeaders/include/src/stan/model/model_header.hpp:4:\n",
      "In file included from /Library/Frameworks/R.framework/Versions/3.2/Resources/library/StanHeaders/include/stan/math.hpp:4:\n",
      "In file included from /Library/Frameworks/R.framework/Versions/3.2/Resources/library/StanHeaders/include/stan/math/rev/mat.hpp:4:\n",
      "In file included from /Library/Frameworks/R.framework/Versions/3.2/Resources/library/StanHeaders/include/stan/math/rev/core.hpp:43:\n",
      "/Library/Frameworks/R.framework/Versions/3.2/Resources/library/StanHeaders/include/stan/math/rev/core/set_zero_all_adjoints_nested.hpp:17:17: warning: 'static' function 'set_zero_all_adjoints_nested' declared in header file should be declared 'static inline' [-Wunneeded-internal-declaration]\n",
      "    static void set_zero_all_adjoints_nested() {\n",
      "                ^\n",
      "In file included from filedb77ddbe889.cpp:8:\n",
      "In file included from /Library/Frameworks/R.framework/Versions/3.2/Resources/library/StanHeaders/include/src/stan/model/model_header.hpp:4:\n",
      "In file included from /Library/Frameworks/R.framework/Versions/3.2/Resources/library/StanHeaders/include/stan/math.hpp:4:\n",
      "In file included from /Library/Frameworks/R.framework/Versions/3.2/Resources/library/StanHeaders/include/stan/math/rev/mat.hpp:9:\n",
      "In file included from /Library/Frameworks/R.framework/Versions/3.2/Resources/library/StanHeaders/include/stan/math/prim/mat.hpp:54:\n",
      "/Library/Frameworks/R.framework/Versions/3.2/Resources/library/StanHeaders/include/stan/math/prim/mat/fun/autocorrelation.hpp:17:14: warning: function 'fft_next_good_size' is not needed and will not be emitted [-Wunneeded-internal-declaration]\n",
      "      size_t fft_next_good_size(size_t N) {\n",
      "             ^\n",
      "In file included from filedb77ddbe889.cpp:8:\n",
      "In file included from /Library/Frameworks/R.framework/Versions/3.2/Resources/library/StanHeaders/include/src/stan/model/model_header.hpp:4:\n",
      "In file included from /Library/Frameworks/R.framework/Versions/3.2/Resources/library/StanHeaders/include/stan/math.hpp:4:\n",
      "In file included from /Library/Frameworks/R.framework/Versions/3.2/Resources/library/StanHeaders/include/stan/math/rev/mat.hpp:9:\n",
      "In file included from /Library/Frameworks/R.framework/Versions/3.2/Resources/library/StanHeaders/include/stan/math/prim/mat.hpp:235:\n",
      "In file included from /Library/Frameworks/R.framework/Versions/3.2/Resources/library/StanHeaders/include/stan/math/prim/arr.hpp:36:\n",
      "In file included from /Library/Frameworks/R.framework/Versions/3.2/Resources/library/StanHeaders/include/stan/math/prim/arr/functor/integrate_ode_rk45.hpp:13:\n",
      "In file included from /Library/Frameworks/R.framework/Versions/3.2/Resources/library/BH/include/boost/numeric/odeint.hpp:61:\n",
      "In file included from /Library/Frameworks/R.framework/Versions/3.2/Resources/library/BH/include/boost/numeric/odeint/util/multi_array_adaption.hpp:29:\n",
      "In file included from /Library/Frameworks/R.framework/Versions/3.2/Resources/library/BH/include/boost/multi_array.hpp:21:\n",
      "In file included from /Library/Frameworks/R.framework/Versions/3.2/Resources/library/BH/include/boost/multi_array/base.hpp:28:\n",
      "/Library/Frameworks/R.framework/Versions/3.2/Resources/library/BH/include/boost/multi_array/concept_checks.hpp:42:43: warning: unused typedef 'index_range' [-Wunused-local-typedef]\n",
      "      typedef typename Array::index_range index_range;\n",
      "                                          ^\n",
      "/Library/Frameworks/R.framework/Versions/3.2/Resources/library/BH/include/boost/multi_array/concept_checks.hpp:43:37: warning: unused typedef 'index' [-Wunused-local-typedef]\n",
      "      typedef typename Array::index index;\n",
      "                                    ^\n",
      "/Library/Frameworks/R.framework/Versions/3.2/Resources/library/BH/include/boost/multi_array/concept_checks.hpp:53:43: warning: unused typedef 'index_range' [-Wunused-local-typedef]\n",
      "      typedef typename Array::index_range index_range;\n",
      "                                          ^\n",
      "/Library/Frameworks/R.framework/Versions/3.2/Resources/library/BH/include/boost/multi_array/concept_checks.hpp:54:37: warning: unused typedef 'index' [-Wunused-local-typedef]\n",
      "      typedef typename Array::index index;\n",
      "                                    ^\n",
      "7 warnings generated.\n",
      "\n",
      "SAMPLING FOR MODEL 'chlamydia_two_exponentials_men' NOW (CHAIN 1).\n",
      "\n",
      "Chain 1, Iteration:     1 / 22000 [  0%]  (Warmup)\n",
      "Chain 1, Iteration:  2001 / 22000 [  9%]  (Sampling)\n",
      "Chain 1, Iteration:  4200 / 22000 [ 19%]  (Sampling)\n",
      "Chain 1, Iteration:  6400 / 22000 [ 29%]  (Sampling)\n",
      "Chain 1, Iteration:  8600 / 22000 [ 39%]  (Sampling)\n",
      "Chain 1, Iteration: 10800 / 22000 [ 49%]  (Sampling)\n",
      "Chain 1, Iteration: 13000 / 22000 [ 59%]  (Sampling)\n",
      "Chain 1, Iteration: 15200 / 22000 [ 69%]  (Sampling)\n",
      "Chain 1, Iteration: 17400 / 22000 [ 79%]  (Sampling)\n",
      "Chain 1, Iteration: 19600 / 22000 [ 89%]  (Sampling)\n",
      "Chain 1, Iteration: 21800 / 22000 [ 99%]  (Sampling)\n",
      "Chain 1, Iteration: 22000 / 22000 [100%]  (Sampling)\n",
      " Elapsed Time: 1.71189 seconds (Warm-up)\n",
      "               14.841 seconds (Sampling)\n",
      "               16.5528 seconds (Total)\n",
      "\n",
      "Sample of chain 1 is written to file results/sample_men_1.csv.\n",
      "\n",
      "SAMPLING FOR MODEL 'chlamydia_two_exponentials_men' NOW (CHAIN 2).\n",
      "\n",
      "Chain 2, Iteration:     1 / 22000 [  0%]  (Warmup)\n",
      "Chain 2, Iteration:  2001 / 22000 [  9%]  (Sampling)\n",
      "Chain 2, Iteration:  4200 / 22000 [ 19%]  (Sampling)\n",
      "Chain 2, Iteration:  6400 / 22000 [ 29%]  (Sampling)\n",
      "Chain 2, Iteration:  8600 / 22000 [ 39%]  (Sampling)\n",
      "Chain 2, Iteration: 10800 / 22000 [ 49%]  (Sampling)\n",
      "Chain 2, Iteration: 13000 / 22000 [ 59%]  (Sampling)\n",
      "Chain 2, Iteration: 15200 / 22000 [ 69%]  (Sampling)\n",
      "Chain 2, Iteration: 17400 / 22000 [ 79%]  (Sampling)\n",
      "Chain 2, Iteration: 19600 / 22000 [ 89%]  (Sampling)\n",
      "Chain 2, Iteration: 21800 / 22000 [ 99%]  (Sampling)\n",
      "Chain 2, Iteration: 22000 / 22000 [100%]  (Sampling)\n",
      " Elapsed Time: 1.78767 seconds (Warm-up)\n",
      "               16.0619 seconds (Sampling)\n",
      "               17.8496 seconds (Total)\n",
      "\n",
      "Sample of chain 2 is written to file results/sample_men_2.csv.\n",
      "\n",
      "SAMPLING FOR MODEL 'chlamydia_two_exponentials_men' NOW (CHAIN 3).\n",
      "\n",
      "Chain 3, Iteration:     1 / 22000 [  0%]  (Warmup)\n",
      "Chain 3, Iteration:  2001 / 22000 [  9%]  (Sampling)\n",
      "Chain 3, Iteration:  4200 / 22000 [ 19%]  (Sampling)\n",
      "Chain 3, Iteration:  6400 / 22000 [ 29%]  (Sampling)\n",
      "Chain 3, Iteration:  8600 / 22000 [ 39%]  (Sampling)\n",
      "Chain 3, Iteration: 10800 / 22000 [ 49%]  (Sampling)\n",
      "Chain 3, Iteration: 13000 / 22000 [ 59%]  (Sampling)\n",
      "Chain 3, Iteration: 15200 / 22000 [ 69%]  (Sampling)\n",
      "Chain 3, Iteration: 17400 / 22000 [ 79%]  (Sampling)\n",
      "Chain 3, Iteration: 19600 / 22000 [ 89%]  (Sampling)\n",
      "Chain 3, Iteration: 21800 / 22000 [ 99%]  (Sampling)\n",
      "Chain 3, Iteration: 22000 / 22000 [100%]  (Sampling)\n",
      " Elapsed Time: 1.73531 seconds (Warm-up)\n",
      "               15.9235 seconds (Sampling)\n",
      "               17.6588 seconds (Total)\n",
      "\n",
      "Sample of chain 3 is written to file results/sample_men_3.csv.\n"
     ]
    },
    {
     "name": "stderr",
     "output_type": "stream",
     "text": [
      "Warning message:\n",
      "\"There were 1 divergent transitions after warmup. Increasing adapt_delta above 0.8 may help. See\n",
      "http://mc-stan.org/misc/warnings.html#divergent-transitions-after-warmup\"Warning message:\n",
      "\"Examine the pairs() plot to diagnose sampling problems\n",
      "\""
     ]
    }
   ],
   "source": [
    "####################\n",
    "# initial values\n",
    "####################\n",
    "\n",
    "# Initial values - 0\n",
    "init0 <- list(psi = 7/77, lambda_slow = 0.74, p1 = 0.23)\n",
    "\n",
    "# Initial values - 1\n",
    "init1 <- list(psi = 0.9, lambda_slow = 0.7, p1 = 0.2)\n",
    "\n",
    "# Initial values - 2\n",
    "init2 <- list(psi = 0.6, lambda_slow = 0.1, p1 = 0.5)\n",
    "\n",
    "####################\n",
    "# run the model\n",
    "####################\n",
    "\n",
    "fit_m <- stan(file = 'chlamydia_two_exponentials_men.stan', \n",
    "              data = chlamydia_dat_m, \n",
    "              iter = 22000, warmup = 2000, init=list(init0, init1, init2), chains = 3, seed=12345,\n",
    "              sample_file = 'results/sample_men.csv',\n",
    "              verbose = FALSE\n",
    "             )\n",
    "\n",
    "op_m <- extract(fit_m)"
   ]
  },
  {
   "cell_type": "code",
   "execution_count": null,
   "metadata": {
    "collapsed": false
   },
   "outputs": [],
   "source": [
    "quantile(op_m$lambda_slow, p=c(0.5, 0.025, 0.975))"
   ]
  },
  {
   "cell_type": "markdown",
   "metadata": {},
   "source": [
    "## Sensitivity to test method\n",
    "\n",
    "Now repeat the analysis on only the studies using culture diagnosis methods, or only the studies using NAAT diagnosis methods.\n",
    "\n",
    "### Culture diagnosis only"
   ]
  },
  {
   "cell_type": "code",
   "execution_count": null,
   "metadata": {
    "collapsed": false
   },
   "outputs": [],
   "source": [
    "load(\"data_m_culture.RData\")\n",
    "\n",
    "fit_m_culture <- stan(file = 'chlamydia_two_exponentials_men.stan', \n",
    "              data = chlamydia_dat_m_culture, \n",
    "              iter = 22000, warmup = 2000, init=list(init0, init1, init2), chains = 3, seed=12345,\n",
    "              sample_file = 'results/sample_men_culture.csv',\n",
    "              verbose = FALSE\n",
    "             )\n",
    "\n",
    "op_m_culture <- extract(fit_m_culture)"
   ]
  },
  {
   "cell_type": "code",
   "execution_count": null,
   "metadata": {
    "collapsed": false
   },
   "outputs": [],
   "source": [
    "quantile(op_m_culture$lambda_slow, p=c(0.5, 0.025, 0.975))"
   ]
  },
  {
   "cell_type": "markdown",
   "metadata": {},
   "source": [
    "### NAAT diagnosis only"
   ]
  },
  {
   "cell_type": "code",
   "execution_count": null,
   "metadata": {
    "collapsed": false
   },
   "outputs": [],
   "source": [
    "load(\"data_m_naat.RData\")\n",
    "\n",
    "fit_m_naat <- stan(file = 'chlamydia_two_exponentials_men.stan', \n",
    "              data = chlamydia_dat_m_naat, \n",
    "              iter = 22000, warmup = 2000, init=list(init0, init1, init2), chains = 3, seed=12345,\n",
    "              sample_file = 'results/sample_men_naat.csv',\n",
    "              verbose = FALSE\n",
    "             )\n",
    "\n",
    "op_m_naat <- extract(fit_m_naat)"
   ]
  },
  {
   "cell_type": "code",
   "execution_count": null,
   "metadata": {
    "collapsed": false
   },
   "outputs": [],
   "source": [
    "quantile(op_m_naat$lambda_slow, p=c(0.5, 0.025, 0.975))"
   ]
  },
  {
   "cell_type": "code",
   "execution_count": null,
   "metadata": {
    "collapsed": false
   },
   "outputs": [],
   "source": [
    "options(repr.plot.width=7, repr.plot.height=4)\n",
    "par(mar = c(5.1, 0.1, 0.1, 0.1))\n",
    "\n",
    "plot_data <- rbind(\n",
    "    quantile(op_m$lambda_slow, p=c(0.025, 0.25, 0.5, 0.75, 0.975)),\n",
    "    quantile(op_m_culture$lambda_slow, p=c(0.025, 0.25, 0.5, 0.75, 0.975)),\n",
    "    quantile(op_m_naat$lambda_slow, p=c(0.025, 0.25, 0.5, 0.75, 0.975))\n",
    "    )\n",
    "\n",
    "plot(plot_data[,'50%'], c(1,2,3), pch=16, xlim=c(-1.5,9), ylim=c(0,4),\n",
    "     xlab=expression(Slow~clearance~rate~(years^{-1})), ylab='', yaxt='n')\n",
    "arrows(x0=plot_data[,'25%'], x1=plot_data[,'75%'], y0=c(1,2,3), length=0, lwd=3)\n",
    "arrows(x0=plot_data[,'2.5%'], x1=plot_data[,'97.5%'], y0=c(1,2,3), length=0)\n",
    "\n",
    "text(0, 1, 'All studies', pos=2, cex=0.8)\n",
    "text(0, 2, 'Culture studies', pos=2, cex=0.8)\n",
    "text(0, 3, 'NAAT studies', pos=2, cex=0.8)\n",
    "\n",
    "legend('topright', legend=c('Median', NA, '50% CrI', NA, '95% CrI'),\n",
    "       lty=c(0,NA,1,NA,1), lwd=c(0,NA,3,NA,1), pch=c(16,NA,NA,NA,NA), \n",
    "       inset = 0.05, cex=0.8)"
   ]
  },
  {
   "cell_type": "markdown",
   "metadata": {},
   "source": [
    "## Study quality and influential studies"
   ]
  },
  {
   "cell_type": "code",
   "execution_count": null,
   "metadata": {
    "collapsed": true
   },
   "outputs": [],
   "source": [
    "study_names <- c(\"Handsfield\", \"Prentice\", \"Johannisson\", \"Paavonen\", \"Joyner\", \"Geisler\", \"Stamm\", \"van den Brule\")\n",
    "op_m <- list()\n",
    "cumobsplus <- c(chlamydia_dat_m$cumobs, chlamydia_dat_m$Nobs) # vector for use in making each new dataset in loop"
   ]
  },
  {
   "cell_type": "code",
   "execution_count": null,
   "metadata": {
    "collapsed": false
   },
   "outputs": [],
   "source": [
    "for(i in 1:chlamydia_dat_m$studnum){\n",
    "\n",
    "    print(i)\n",
    "\n",
    "    chlamydia_dat_tmp <- list(\n",
    "        studnum = 7,\n",
    "        studnum_bytype = chlamydia_dat_m$studnum_bytype - c(i <= 6, i > 6, 0),\n",
    "        studobs = chlamydia_dat_m$studobs[-i],\n",
    "        cumobs = c(0, cumsum(head(chlamydia_dat_m$studobs[-i], n=-1))),\n",
    "        Nobs = sum(chlamydia_dat_m$studobs[-i]),\n",
    "        r = chlamydia_dat_m$r[-((cumobsplus[i]+1):(cumobsplus[i+1]))],\n",
    "        n = chlamydia_dat_m$n[-((cumobsplus[i]+1):(cumobsplus[i+1]))],\n",
    "        t = chlamydia_dat_m$t[-((cumobsplus[i]+1):(cumobsplus[i+1]))],\n",
    "        seind = chlamydia_dat_m$seind[-((cumobsplus[i]+1):(cumobsplus[i+1]))],\n",
    "        T = rep(999, times = sum(chlamydia_dat_m$studobs[-i]))\n",
    "        )\n",
    "    \n",
    "    ####################\n",
    "    # run the model\n",
    "    ####################\n",
    "    \n",
    "    fit_m <- stan(file = 'chlamydia_two_exponentials_men.stan', \n",
    "                data = chlamydia_dat_tmp, \n",
    "                iter = 22000, warmup = 2000, init=list(init0, init1, init2), chains = 3, seed=12345\n",
    "                 )\n",
    "\n",
    "    op_m[[study_names[i]]] <- extract(fit_m)\n",
    "\n",
    "    }"
   ]
  },
  {
   "cell_type": "code",
   "execution_count": null,
   "metadata": {
    "collapsed": false
   },
   "outputs": [],
   "source": [
    "pmeans <- NULL\n",
    "pquantiles <- NULL\n",
    "for(i in 1:chlamydia_dat_m$studnum){\n",
    "\n",
    "#    print(study_names[[i]])\n",
    "#    print(mean(op_m[[i]]$lambda_slow))\n",
    "    pmeans <- c(pmeans, mean(op_m[[i]]$lambda_slow))\n",
    "#    print(quantile(op_m[[i]]$lambda_slow, p=c(0.5, 0.25, 0.75, 0.025, 0.975)))\n",
    "    pquantiles <- rbind(pquantiles, quantile(op_m[[i]]$lambda_slow, p=c(0.5, 0.25, 0.75, 0.025, 0.975)))\n",
    "    \n",
    "}\n",
    "\n",
    "plot(pmeans, seq(chlamydia_dat_m$studnum, 1, -1), \n",
    "     xlim=c(-1.5,5), ylim=c(0, 9), xaxt='n', yaxt = 'n', \n",
    "     xlab = expression(Slow~clearance~rate~(years^{-1})), ylab = '' )\n",
    "points(pquantiles[,'50%'], seq(chlamydia_dat_m$studnum, 1, -1) , pch='|')\n",
    "arrows(x0 = pquantiles[,'25%'], x1 = pquantiles[,'75%'], y0 = seq(chlamydia_dat_m$studnum, 1, -1), lwd=3, length=0)\n",
    "arrows(x0 = pquantiles[,'2.5%'], x1 = pquantiles[,'97.5%'], y0 = seq(chlamydia_dat_m$studnum, 1, -1), length=0)\n",
    "text(-1.5, seq(chlamydia_dat_m$studnum, 1, -1), study_names, pos=4)\n",
    "\n",
    "axis(side=1, at=0:5)\n",
    "\n",
    "legend('topright', legend=c('Mean', NA, 'Median', NA, '50% CrI', NA, '95% CrI'),\n",
    "       lty=c(0, NA, 0,NA,1,NA,1), lwd=c(1, NA, 1,NA,3,NA,1), pch=c(1,NA,3,NA,NA,NA,NA), \n",
    "       inset = 0.05, cex=0.8)"
   ]
  },
  {
   "cell_type": "code",
   "execution_count": null,
   "metadata": {
    "collapsed": true
   },
   "outputs": [],
   "source": []
  },
  {
   "cell_type": "code",
   "execution_count": null,
   "metadata": {
    "collapsed": true
   },
   "outputs": [],
   "source": []
  }
 ],
 "metadata": {
  "kernelspec": {
   "display_name": "R",
   "language": "R",
   "name": "ir"
  },
  "language_info": {
   "codemirror_mode": "r",
   "file_extension": ".r",
   "mimetype": "text/x-r-source",
   "name": "R",
   "pygments_lexer": "r",
   "version": "3.2.4"
  }
 },
 "nbformat": 4,
 "nbformat_minor": 0
}
