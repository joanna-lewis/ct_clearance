{
 "cells": [
  {
   "cell_type": "markdown",
   "metadata": {},
   "source": [
    "# Model comparison for the clearance of untreated _C. trachomatis_ infection in men\n",
    "\n",
    "This notebook compares several alternative models to synthesise the evidence on chlamydia clearance rate in untreated men. We use the Deviance Information Criterion (DIC) to compare fits. Lower DIC indicates a better fit. The two-compartment mixture-of-exponentials model has DIC 23.3.\n",
    "\n",
    "## Load the data\n",
    "\n",
    "Begin by loading the `rstan` package, and data for duration of infection in men and women."
   ]
  },
  {
   "cell_type": "code",
   "execution_count": 1,
   "metadata": {
    "collapsed": false
   },
   "outputs": [
    {
     "name": "stderr",
     "output_type": "stream",
     "text": [
      "Warning message:\n",
      "\"package 'StanHeaders' was built under R version 3.2.5\"rstan (Version 2.12.1, packaged: 2016-09-11 13:07:50 UTC, GitRev: 85f7a56811da)\n",
      "For execution on a local, multicore CPU with excess RAM we recommend calling\n",
      "rstan_options(auto_write = TRUE)\n",
      "options(mc.cores = parallel::detectCores())\n"
     ]
    }
   ],
   "source": [
    "rm(list=ls())\n",
    "\n",
    "library(rstan, quietly = TRUE)\n",
    "\n",
    "load(\"data_m.RData\")"
   ]
  },
  {
   "cell_type": "markdown",
   "metadata": {},
   "source": [
    "## One-compartment model\n",
    "\n",
    "In the one-compartment model all infections are cleared at the same constant rate, $\\lambda$."
   ]
  },
  {
   "cell_type": "code",
   "execution_count": 2,
   "metadata": {
    "collapsed": true
   },
   "outputs": [],
   "source": [
    "####################\n",
    "# initial values\n",
    "####################\n",
    "\n",
    "# Initial values - 0\n",
    "init0 <- list(psi = 7/77, lambda = 0.74)\n",
    "\n",
    "# Initial values - 1\n",
    "init1 <- list(psi = 0.9, lambda = 0.7)\n",
    "\n",
    "# Initial values - 2\n",
    "init2 <- list(psi = 0.6, lambda = 0.1)\n"
   ]
  },
  {
   "cell_type": "code",
   "execution_count": 3,
   "metadata": {
    "collapsed": false
   },
   "outputs": [
    {
     "name": "stdout",
     "output_type": "stream",
     "text": [
      "In file included from file1500197caa50.cpp:8:\n",
      "In file included from /Library/Frameworks/R.framework/Versions/3.2/Resources/library/StanHeaders/include/src/stan/model/model_header.hpp:4:\n",
      "In file included from /Library/Frameworks/R.framework/Versions/3.2/Resources/library/StanHeaders/include/stan/math.hpp:4:\n",
      "In file included from /Library/Frameworks/R.framework/Versions/3.2/Resources/library/StanHeaders/include/stan/math/rev/mat.hpp:4:\n",
      "In file included from /Library/Frameworks/R.framework/Versions/3.2/Resources/library/StanHeaders/include/stan/math/rev/core.hpp:42:\n",
      "/Library/Frameworks/R.framework/Versions/3.2/Resources/library/StanHeaders/include/stan/math/rev/core/set_zero_all_adjoints.hpp:14:17: warning: unused function 'set_zero_all_adjoints' [-Wunused-function]\n",
      "    static void set_zero_all_adjoints() {\n",
      "                ^\n",
      "In file included from file1500197caa50.cpp:8:\n",
      "In file included from /Library/Frameworks/R.framework/Versions/3.2/Resources/library/StanHeaders/include/src/stan/model/model_header.hpp:4:\n",
      "In file included from /Library/Frameworks/R.framework/Versions/3.2/Resources/library/StanHeaders/include/stan/math.hpp:4:\n",
      "In file included from /Library/Frameworks/R.framework/Versions/3.2/Resources/library/StanHeaders/include/stan/math/rev/mat.hpp:4:\n",
      "In file included from /Library/Frameworks/R.framework/Versions/3.2/Resources/library/StanHeaders/include/stan/math/rev/core.hpp:43:\n",
      "/Library/Frameworks/R.framework/Versions/3.2/Resources/library/StanHeaders/include/stan/math/rev/core/set_zero_all_adjoints_nested.hpp:17:17: warning: 'static' function 'set_zero_all_adjoints_nested' declared in header file should be declared 'static inline' [-Wunneeded-internal-declaration]\n",
      "    static void set_zero_all_adjoints_nested() {\n",
      "                ^\n",
      "In file included from file1500197caa50.cpp:8:\n",
      "In file included from /Library/Frameworks/R.framework/Versions/3.2/Resources/library/StanHeaders/include/src/stan/model/model_header.hpp:4:\n",
      "In file included from /Library/Frameworks/R.framework/Versions/3.2/Resources/library/StanHeaders/include/stan/math.hpp:4:\n",
      "In file included from /Library/Frameworks/R.framework/Versions/3.2/Resources/library/StanHeaders/include/stan/math/rev/mat.hpp:9:\n",
      "In file included from /Library/Frameworks/R.framework/Versions/3.2/Resources/library/StanHeaders/include/stan/math/prim/mat.hpp:54:\n",
      "/Library/Frameworks/R.framework/Versions/3.2/Resources/library/StanHeaders/include/stan/math/prim/mat/fun/autocorrelation.hpp:17:14: warning: function 'fft_next_good_size' is not needed and will not be emitted [-Wunneeded-internal-declaration]\n",
      "      size_t fft_next_good_size(size_t N) {\n",
      "             ^\n",
      "In file included from file1500197caa50.cpp:8:\n",
      "In file included from /Library/Frameworks/R.framework/Versions/3.2/Resources/library/StanHeaders/include/src/stan/model/model_header.hpp:4:\n",
      "In file included from /Library/Frameworks/R.framework/Versions/3.2/Resources/library/StanHeaders/include/stan/math.hpp:4:\n",
      "In file included from /Library/Frameworks/R.framework/Versions/3.2/Resources/library/StanHeaders/include/stan/math/rev/mat.hpp:9:\n",
      "In file included from /Library/Frameworks/R.framework/Versions/3.2/Resources/library/StanHeaders/include/stan/math/prim/mat.hpp:235:\n",
      "In file included from /Library/Frameworks/R.framework/Versions/3.2/Resources/library/StanHeaders/include/stan/math/prim/arr.hpp:36:\n",
      "In file included from /Library/Frameworks/R.framework/Versions/3.2/Resources/library/StanHeaders/include/stan/math/prim/arr/functor/integrate_ode_rk45.hpp:13:\n",
      "In file included from /Library/Frameworks/R.framework/Versions/3.2/Resources/library/BH/include/boost/numeric/odeint.hpp:61:\n",
      "In file included from /Library/Frameworks/R.framework/Versions/3.2/Resources/library/BH/include/boost/numeric/odeint/util/multi_array_adaption.hpp:29:\n",
      "In file included from /Library/Frameworks/R.framework/Versions/3.2/Resources/library/BH/include/boost/multi_array.hpp:21:\n",
      "In file included from /Library/Frameworks/R.framework/Versions/3.2/Resources/library/BH/include/boost/multi_array/base.hpp:28:\n",
      "/Library/Frameworks/R.framework/Versions/3.2/Resources/library/BH/include/boost/multi_array/concept_checks.hpp:42:43: warning: unused typedef 'index_range' [-Wunused-local-typedef]\n",
      "      typedef typename Array::index_range index_range;\n",
      "                                          ^\n",
      "/Library/Frameworks/R.framework/Versions/3.2/Resources/library/BH/include/boost/multi_array/concept_checks.hpp:43:37: warning: unused typedef 'index' [-Wunused-local-typedef]\n",
      "      typedef typename Array::index index;\n",
      "                                    ^\n",
      "/Library/Frameworks/R.framework/Versions/3.2/Resources/library/BH/include/boost/multi_array/concept_checks.hpp:53:43: warning: unused typedef 'index_range' [-Wunused-local-typedef]\n",
      "      typedef typename Array::index_range index_range;\n",
      "                                          ^\n",
      "/Library/Frameworks/R.framework/Versions/3.2/Resources/library/BH/include/boost/multi_array/concept_checks.hpp:54:37: warning: unused typedef 'index' [-Wunused-local-typedef]\n",
      "      typedef typename Array::index index;\n",
      "                                    ^\n",
      "7 warnings generated.\n",
      "\n",
      "SAMPLING FOR MODEL 'chlamydia_one_exponential_men' NOW (CHAIN 1).\n",
      "\n",
      "Chain 1, Iteration:     1 / 22000 [  0%]  (Warmup)\n",
      "Chain 1, Iteration:  2001 / 22000 [  9%]  (Sampling)\n",
      "Chain 1, Iteration:  4200 / 22000 [ 19%]  (Sampling)\n",
      "Chain 1, Iteration:  6400 / 22000 [ 29%]  (Sampling)\n",
      "Chain 1, Iteration:  8600 / 22000 [ 39%]  (Sampling)\n",
      "Chain 1, Iteration: 10800 / 22000 [ 49%]  (Sampling)\n",
      "Chain 1, Iteration: 13000 / 22000 [ 59%]  (Sampling)\n",
      "Chain 1, Iteration: 15200 / 22000 [ 69%]  (Sampling)\n",
      "Chain 1, Iteration: 17400 / 22000 [ 79%]  (Sampling)\n",
      "Chain 1, Iteration: 19600 / 22000 [ 89%]  (Sampling)\n",
      "Chain 1, Iteration: 21800 / 22000 [ 99%]  (Sampling)\n",
      "Chain 1, Iteration: 22000 / 22000 [100%]  (Sampling)\n",
      " Elapsed Time: 0.067405 seconds (Warm-up)\n",
      "               0.652746 seconds (Sampling)\n",
      "               0.720151 seconds (Total)\n",
      "\n",
      "\n",
      "SAMPLING FOR MODEL 'chlamydia_one_exponential_men' NOW (CHAIN 2).\n",
      "\n",
      "Chain 2, Iteration:     1 / 22000 [  0%]  (Warmup)\n",
      "Chain 2, Iteration:  2001 / 22000 [  9%]  (Sampling)\n",
      "Chain 2, Iteration:  4200 / 22000 [ 19%]  (Sampling)\n",
      "Chain 2, Iteration:  6400 / 22000 [ 29%]  (Sampling)\n",
      "Chain 2, Iteration:  8600 / 22000 [ 39%]  (Sampling)\n",
      "Chain 2, Iteration: 10800 / 22000 [ 49%]  (Sampling)\n",
      "Chain 2, Iteration: 13000 / 22000 [ 59%]  (Sampling)\n",
      "Chain 2, Iteration: 15200 / 22000 [ 69%]  (Sampling)\n",
      "Chain 2, Iteration: 17400 / 22000 [ 79%]  (Sampling)\n",
      "Chain 2, Iteration: 19600 / 22000 [ 89%]  (Sampling)\n",
      "Chain 2, Iteration: 21800 / 22000 [ 99%]  (Sampling)\n",
      "Chain 2, Iteration: 22000 / 22000 [100%]  (Sampling)\n",
      " Elapsed Time: 0.067041 seconds (Warm-up)\n",
      "               0.651278 seconds (Sampling)\n",
      "               0.718319 seconds (Total)\n",
      "\n",
      "\n",
      "SAMPLING FOR MODEL 'chlamydia_one_exponential_men' NOW (CHAIN 3).\n",
      "\n",
      "Chain 3, Iteration:     1 / 22000 [  0%]  (Warmup)\n",
      "Chain 3, Iteration:  2001 / 22000 [  9%]  (Sampling)\n",
      "Chain 3, Iteration:  4200 / 22000 [ 19%]  (Sampling)\n",
      "Chain 3, Iteration:  6400 / 22000 [ 29%]  (Sampling)\n",
      "Chain 3, Iteration:  8600 / 22000 [ 39%]  (Sampling)\n",
      "Chain 3, Iteration: 10800 / 22000 [ 49%]  (Sampling)\n",
      "Chain 3, Iteration: 13000 / 22000 [ 59%]  (Sampling)\n",
      "Chain 3, Iteration: 15200 / 22000 [ 69%]  (Sampling)\n",
      "Chain 3, Iteration: 17400 / 22000 [ 79%]  (Sampling)\n",
      "Chain 3, Iteration: 19600 / 22000 [ 89%]  (Sampling)\n",
      "Chain 3, Iteration: 21800 / 22000 [ 99%]  (Sampling)\n",
      "Chain 3, Iteration: 22000 / 22000 [100%]  (Sampling)\n",
      " Elapsed Time: 0.069201 seconds (Warm-up)\n",
      "               0.651407 seconds (Sampling)\n",
      "               0.720608 seconds (Total)\n",
      "\n"
     ]
    }
   ],
   "source": [
    "fit1 <- stan(file = 'chlamydia_one_exponential_men.stan', data = chlamydia_dat_m, \n",
    "            iter = 22000, warmup = 2000, init=list(init0, init1, init2), chains = 3, seed=12345, verbose=FALSE)\n"
   ]
  },
  {
   "cell_type": "code",
   "execution_count": 4,
   "metadata": {
    "collapsed": true
   },
   "outputs": [],
   "source": [
    "op_1 <- extract(fit1)"
   ]
  },
  {
   "cell_type": "code",
   "execution_count": 5,
   "metadata": {
    "collapsed": false
   },
   "outputs": [
    {
     "data": {
      "text/html": [
       "2.93665431736819"
      ],
      "text/latex": [
       "2.93665431736819"
      ],
      "text/markdown": [
       "2.93665431736819"
      ],
      "text/plain": [
       "[1] 2.936654"
      ]
     },
     "metadata": {},
     "output_type": "display_data"
    },
    {
     "data": {
      "text/html": [
       "<dl class=dl-horizontal>\n",
       "\t<dt>50%</dt>\n",
       "\t\t<dd>2.89052214798296</dd>\n",
       "\t<dt>2.5%</dt>\n",
       "\t\t<dd>1.72239770635036</dd>\n",
       "\t<dt>97.5%</dt>\n",
       "\t\t<dd>4.38278163249556</dd>\n",
       "</dl>\n"
      ],
      "text/latex": [
       "\\begin{description*}\n",
       "\\item[50\\textbackslash{}\\%] 2.89052214798296\n",
       "\\item[2.5\\textbackslash{}\\%] 1.72239770635036\n",
       "\\item[97.5\\textbackslash{}\\%] 4.38278163249556\n",
       "\\end{description*}\n"
      ],
      "text/markdown": [
       "50%\n",
       ":   2.890522147982962.5%\n",
       ":   1.7223977063503697.5%\n",
       ":   4.38278163249556\n",
       "\n"
      ],
      "text/plain": [
       "     50%     2.5%    97.5% \n",
       "2.890522 1.722398 4.382782 "
      ]
     },
     "metadata": {},
     "output_type": "display_data"
    }
   ],
   "source": [
    "# summary statistics for the clearance rate\n",
    "mean(op_1$lambda)\n",
    "quantile(op_1$lambda, p=c(0.5, 0.025, 0.975))"
   ]
  },
  {
   "cell_type": "code",
   "execution_count": 6,
   "metadata": {
    "collapsed": false
   },
   "outputs": [
    {
     "data": {
      "text/html": [
       "<span style=white-space:pre-wrap>'Posterior mean residual deviance:  56.8 .'</span>"
      ],
      "text/latex": [
       "'Posterior mean residual deviance:  56.8 .'"
      ],
      "text/markdown": [
       "<span style=white-space:pre-wrap>'Posterior mean residual deviance:  56.8 .'</span>"
      ],
      "text/plain": [
       "[1] \"Posterior mean residual deviance:  56.8 .\""
      ]
     },
     "metadata": {},
     "output_type": "display_data"
    },
    {
     "data": {
      "text/html": [
       "<span style=white-space:pre-wrap>'DIC:  59 .'</span>"
      ],
      "text/latex": [
       "'DIC:  59 .'"
      ],
      "text/markdown": [
       "<span style=white-space:pre-wrap>'DIC:  59 .'</span>"
      ],
      "text/plain": [
       "[1] \"DIC:  59 .\""
      ]
     },
     "metadata": {},
     "output_type": "display_data"
    }
   ],
   "source": [
    "# expectation of the deviance\n",
    "Dbar_m <- mean(op_1$sumdev)\n",
    "\n",
    "# Effective number of parameters (Spiegelhalter)\n",
    "thetabar <- apply(op_1$theta,2,mean)\n",
    "D_thetabar <- -2*sum(\n",
    "    dbinom(chlamydia_dat_m$r, chlamydia_dat_m$n, thetabar, log=TRUE) -\n",
    "    dbinom(chlamydia_dat_m$r, chlamydia_dat_m$n, chlamydia_dat_m$r/chlamydia_dat_m$n, log=TRUE)\t\n",
    "    )\n",
    "p_DS_m <- Dbar_m - D_thetabar\n",
    "\n",
    "# Effective number of parameters (Gelman)\n",
    "p_DG_m <- 0.5 * var(op_1$sumdev)\n",
    "\n",
    "# choose your p_D\n",
    "p_Dm <- p_DS_m\n",
    "\n",
    "# DIC\n",
    "DIC_m <- p_Dm + Dbar_m\n",
    "\n",
    "paste('Posterior mean residual deviance: ', round(Dbar_m,1), '.', collapse=\"\")\n",
    "paste('DIC: ', round(DIC_m,1), '.', collapse=\"\")"
   ]
  },
  {
   "cell_type": "markdown",
   "metadata": {},
   "source": [
    "The DIC for the one-compartment model is considerably higher than for the two-compartment model, indicating in inferior fit to the data.\n",
    "\n",
    "## Three-compartment model\n",
    "\n",
    "We also investigate a three-compartment model, where new infections may take any of three different courses:"
   ]
  },
  {
   "cell_type": "code",
   "execution_count": 7,
   "metadata": {
    "collapsed": true
   },
   "outputs": [],
   "source": [
    "# Initial values - 0\n",
    "init0 <- list(psi = 7/77, lambda_mid = 9.5, lambda_slow = 0.64, p1 = 0.19, p2=0.31)\n",
    "\n",
    "# Initial values - 1\n",
    "init1 <- list(psi = 0.9, lambda_mid = 15, lambda_slow = 0.1, p1 = 0.3, p2=0.31)\n",
    "\n",
    "# Initial values - 2\n",
    "init2 <- list(psi = 0.6,lambda_mid = 5, lambda_slow = 1, p1 = 0.6, p2=0.1)\n"
   ]
  },
  {
   "cell_type": "code",
   "execution_count": 8,
   "metadata": {
    "collapsed": false
   },
   "outputs": [
    {
     "name": "stdout",
     "output_type": "stream",
     "text": [
      "In file included from file15005a020ef2.cpp:8:\n",
      "In file included from /Library/Frameworks/R.framework/Versions/3.2/Resources/library/StanHeaders/include/src/stan/model/model_header.hpp:4:\n",
      "In file included from /Library/Frameworks/R.framework/Versions/3.2/Resources/library/StanHeaders/include/stan/math.hpp:4:\n",
      "In file included from /Library/Frameworks/R.framework/Versions/3.2/Resources/library/StanHeaders/include/stan/math/rev/mat.hpp:4:\n",
      "In file included from /Library/Frameworks/R.framework/Versions/3.2/Resources/library/StanHeaders/include/stan/math/rev/core.hpp:42:\n",
      "/Library/Frameworks/R.framework/Versions/3.2/Resources/library/StanHeaders/include/stan/math/rev/core/set_zero_all_adjoints.hpp:14:17: warning: unused function 'set_zero_all_adjoints' [-Wunused-function]\n",
      "    static void set_zero_all_adjoints() {\n",
      "                ^\n",
      "In file included from file15005a020ef2.cpp:8:\n",
      "In file included from /Library/Frameworks/R.framework/Versions/3.2/Resources/library/StanHeaders/include/src/stan/model/model_header.hpp:4:\n",
      "In file included from /Library/Frameworks/R.framework/Versions/3.2/Resources/library/StanHeaders/include/stan/math.hpp:4:\n",
      "In file included from /Library/Frameworks/R.framework/Versions/3.2/Resources/library/StanHeaders/include/stan/math/rev/mat.hpp:4:\n",
      "In file included from /Library/Frameworks/R.framework/Versions/3.2/Resources/library/StanHeaders/include/stan/math/rev/core.hpp:43:\n",
      "/Library/Frameworks/R.framework/Versions/3.2/Resources/library/StanHeaders/include/stan/math/rev/core/set_zero_all_adjoints_nested.hpp:17:17: warning: 'static' function 'set_zero_all_adjoints_nested' declared in header file should be declared 'static inline' [-Wunneeded-internal-declaration]\n",
      "    static void set_zero_all_adjoints_nested() {\n",
      "                ^\n",
      "In file included from file15005a020ef2.cpp:8:\n",
      "In file included from /Library/Frameworks/R.framework/Versions/3.2/Resources/library/StanHeaders/include/src/stan/model/model_header.hpp:4:\n",
      "In file included from /Library/Frameworks/R.framework/Versions/3.2/Resources/library/StanHeaders/include/stan/math.hpp:4:\n",
      "In file included from /Library/Frameworks/R.framework/Versions/3.2/Resources/library/StanHeaders/include/stan/math/rev/mat.hpp:9:\n",
      "In file included from /Library/Frameworks/R.framework/Versions/3.2/Resources/library/StanHeaders/include/stan/math/prim/mat.hpp:54:\n",
      "/Library/Frameworks/R.framework/Versions/3.2/Resources/library/StanHeaders/include/stan/math/prim/mat/fun/autocorrelation.hpp:17:14: warning: function 'fft_next_good_size' is not needed and will not be emitted [-Wunneeded-internal-declaration]\n",
      "      size_t fft_next_good_size(size_t N) {\n",
      "             ^\n",
      "In file included from file15005a020ef2.cpp:8:\n",
      "In file included from /Library/Frameworks/R.framework/Versions/3.2/Resources/library/StanHeaders/include/src/stan/model/model_header.hpp:4:\n",
      "In file included from /Library/Frameworks/R.framework/Versions/3.2/Resources/library/StanHeaders/include/stan/math.hpp:4:\n",
      "In file included from /Library/Frameworks/R.framework/Versions/3.2/Resources/library/StanHeaders/include/stan/math/rev/mat.hpp:9:\n",
      "In file included from /Library/Frameworks/R.framework/Versions/3.2/Resources/library/StanHeaders/include/stan/math/prim/mat.hpp:235:\n",
      "In file included from /Library/Frameworks/R.framework/Versions/3.2/Resources/library/StanHeaders/include/stan/math/prim/arr.hpp:36:\n",
      "In file included from /Library/Frameworks/R.framework/Versions/3.2/Resources/library/StanHeaders/include/stan/math/prim/arr/functor/integrate_ode_rk45.hpp:13:\n",
      "In file included from /Library/Frameworks/R.framework/Versions/3.2/Resources/library/BH/include/boost/numeric/odeint.hpp:61:\n",
      "In file included from /Library/Frameworks/R.framework/Versions/3.2/Resources/library/BH/include/boost/numeric/odeint/util/multi_array_adaption.hpp:29:\n",
      "In file included from /Library/Frameworks/R.framework/Versions/3.2/Resources/library/BH/include/boost/multi_array.hpp:21:\n",
      "In file included from /Library/Frameworks/R.framework/Versions/3.2/Resources/library/BH/include/boost/multi_array/base.hpp:28:\n",
      "/Library/Frameworks/R.framework/Versions/3.2/Resources/library/BH/include/boost/multi_array/concept_checks.hpp:42:43: warning: unused typedef 'index_range' [-Wunused-local-typedef]\n",
      "      typedef typename Array::index_range index_range;\n",
      "                                          ^\n",
      "/Library/Frameworks/R.framework/Versions/3.2/Resources/library/BH/include/boost/multi_array/concept_checks.hpp:43:37: warning: unused typedef 'index' [-Wunused-local-typedef]\n",
      "      typedef typename Array::index index;\n",
      "                                    ^\n",
      "/Library/Frameworks/R.framework/Versions/3.2/Resources/library/BH/include/boost/multi_array/concept_checks.hpp:53:43: warning: unused typedef 'index_range' [-Wunused-local-typedef]\n",
      "      typedef typename Array::index_range index_range;\n",
      "                                          ^\n",
      "/Library/Frameworks/R.framework/Versions/3.2/Resources/library/BH/include/boost/multi_array/concept_checks.hpp:54:37: warning: unused typedef 'index' [-Wunused-local-typedef]\n",
      "      typedef typename Array::index index;\n",
      "                                    ^\n",
      "7 warnings generated.\n",
      "\n",
      "SAMPLING FOR MODEL 'chlamydia_three_exponentials_men' NOW (CHAIN 1).\n",
      "\n",
      "Chain 1, Iteration:   1 / 1000 [  0%]  (Warmup)\n",
      "Chain 1, Iteration: 100 / 1000 [ 10%]  (Warmup)\n",
      "Chain 1, Iteration: 200 / 1000 [ 20%]  (Warmup)\n",
      "Chain 1, Iteration: 201 / 1000 [ 20%]  (Sampling)\n",
      "Chain 1, Iteration: 300 / 1000 [ 30%]  (Sampling)\n",
      "Chain 1, Iteration: 400 / 1000 [ 40%]  (Sampling)\n",
      "Chain 1, Iteration: 500 / 1000 [ 50%]  (Sampling)\n",
      "Chain 1, Iteration: 600 / 1000 [ 60%]  (Sampling)\n",
      "Chain 1, Iteration: 700 / 1000 [ 70%]  (Sampling)\n",
      "Chain 1, Iteration: 800 / 1000 [ 80%]  (Sampling)\n",
      "Chain 1, Iteration: 900 / 1000 [ 90%]  (Sampling)\n",
      "Chain 1, Iteration: 1000 / 1000 [100%]  (Sampling)\n",
      " Elapsed Time: 3.98353 seconds (Warm-up)\n",
      "               16.68 seconds (Sampling)\n",
      "               20.6636 seconds (Total)\n",
      "\n"
     ]
    },
    {
     "name": "stderr",
     "output_type": "stream",
     "text": [
      "The following numerical problems occured the indicated number of times after warmup on chain 1\n",
      "                                                                                             count\n",
      "Exception thrown at line 124: uniform_log: Upper bound parameter is inf, but must be finite!   881\n",
      "When a numerical problem occurs, the Hamiltonian proposal gets rejected.\n",
      "See http://mc-stan.org/misc/warnings.html#exception-hamiltonian-proposal-rejected\n",
      "If the number in the 'count' column is small, do not ask about this message on stan-users.\n"
     ]
    }
   ],
   "source": [
    "fit3 <- stan(file = 'chlamydia_three_exponentials_men.stan', data = chlamydia_dat_m, \n",
    "            iter = 1000, warmup = 200, init=list(init0), chains = 1, seed=12345, verbose=FALSE)"
   ]
  },
  {
   "cell_type": "markdown",
   "metadata": {
    "collapsed": true
   },
   "source": [
    "The sampling algorithm performs badly for this model, suggesting under-informative data, so mixture models with three or more components were not investigated any further.\n",
    "\n",
    "## A model allowing for a distribution of clearance rates in the population\n",
    "\n",
    "An alternative to the mixture-of-exponentials model is one in which the clearance rates take some distribution within the population: for example, a Gamma distribution.\n",
    "\n",
    "If $\\lambda \\sim$ Gamma( scale = k, shape = $\\theta$ )\n",
    "\n",
    "and X $\\sim$ Exponential( rate = $\\lambda$ )\n",
    "\n",
    "then X $\\sim$ Lomax( scale = 1/k, shape = $\\theta$).\n",
    "\n",
    "The proportion of incident infections which has cleared by time $t$ is therefore given by the cumulative distribution function (CDF) of the appropriately-parameterised Lomax distribution.\n",
    "\n",
    "If the clearance rates of incident infections are gamma-distributed with scale $k$ and shape $\\theta$, it can be shown that the clearance rates of prevalent infections are also gamma-distributed, with scale $k-1$ and shape $\\theta$. The proportion of prevalent infections which has cleared by time $t$ is therefore given by the CDF of a Lomax distribution with scale $1/(k-1)$ and shape $\\theta$."
   ]
  },
  {
   "cell_type": "code",
   "execution_count": 9,
   "metadata": {
    "collapsed": false
   },
   "outputs": [
    {
     "name": "stdout",
     "output_type": "stream",
     "text": [
      "In file included from file15003fac6dfd.cpp:8:\n",
      "In file included from /Library/Frameworks/R.framework/Versions/3.2/Resources/library/StanHeaders/include/src/stan/model/model_header.hpp:4:\n",
      "In file included from /Library/Frameworks/R.framework/Versions/3.2/Resources/library/StanHeaders/include/stan/math.hpp:4:\n",
      "In file included from /Library/Frameworks/R.framework/Versions/3.2/Resources/library/StanHeaders/include/stan/math/rev/mat.hpp:4:\n",
      "In file included from /Library/Frameworks/R.framework/Versions/3.2/Resources/library/StanHeaders/include/stan/math/rev/core.hpp:42:\n",
      "/Library/Frameworks/R.framework/Versions/3.2/Resources/library/StanHeaders/include/stan/math/rev/core/set_zero_all_adjoints.hpp:14:17: warning: unused function 'set_zero_all_adjoints' [-Wunused-function]\n",
      "    static void set_zero_all_adjoints() {\n",
      "                ^\n",
      "In file included from file15003fac6dfd.cpp:8:\n",
      "In file included from /Library/Frameworks/R.framework/Versions/3.2/Resources/library/StanHeaders/include/src/stan/model/model_header.hpp:4:\n",
      "In file included from /Library/Frameworks/R.framework/Versions/3.2/Resources/library/StanHeaders/include/stan/math.hpp:4:\n",
      "In file included from /Library/Frameworks/R.framework/Versions/3.2/Resources/library/StanHeaders/include/stan/math/rev/mat.hpp:4:\n",
      "In file included from /Library/Frameworks/R.framework/Versions/3.2/Resources/library/StanHeaders/include/stan/math/rev/core.hpp:43:\n",
      "/Library/Frameworks/R.framework/Versions/3.2/Resources/library/StanHeaders/include/stan/math/rev/core/set_zero_all_adjoints_nested.hpp:17:17: warning: 'static' function 'set_zero_all_adjoints_nested' declared in header file should be declared 'static inline' [-Wunneeded-internal-declaration]\n",
      "    static void set_zero_all_adjoints_nested() {\n",
      "                ^\n",
      "In file included from file15003fac6dfd.cpp:8:\n",
      "In file included from /Library/Frameworks/R.framework/Versions/3.2/Resources/library/StanHeaders/include/src/stan/model/model_header.hpp:4:\n",
      "In file included from /Library/Frameworks/R.framework/Versions/3.2/Resources/library/StanHeaders/include/stan/math.hpp:4:\n",
      "In file included from /Library/Frameworks/R.framework/Versions/3.2/Resources/library/StanHeaders/include/stan/math/rev/mat.hpp:9:\n",
      "In file included from /Library/Frameworks/R.framework/Versions/3.2/Resources/library/StanHeaders/include/stan/math/prim/mat.hpp:54:\n",
      "/Library/Frameworks/R.framework/Versions/3.2/Resources/library/StanHeaders/include/stan/math/prim/mat/fun/autocorrelation.hpp:17:14: warning: function 'fft_next_good_size' is not needed and will not be emitted [-Wunneeded-internal-declaration]\n",
      "      size_t fft_next_good_size(size_t N) {\n",
      "             ^\n",
      "In file included from file15003fac6dfd.cpp:8:\n",
      "In file included from /Library/Frameworks/R.framework/Versions/3.2/Resources/library/StanHeaders/include/src/stan/model/model_header.hpp:4:\n",
      "In file included from /Library/Frameworks/R.framework/Versions/3.2/Resources/library/StanHeaders/include/stan/math.hpp:4:\n",
      "In file included from /Library/Frameworks/R.framework/Versions/3.2/Resources/library/StanHeaders/include/stan/math/rev/mat.hpp:9:\n",
      "In file included from /Library/Frameworks/R.framework/Versions/3.2/Resources/library/StanHeaders/include/stan/math/prim/mat.hpp:235:\n",
      "In file included from /Library/Frameworks/R.framework/Versions/3.2/Resources/library/StanHeaders/include/stan/math/prim/arr.hpp:36:\n",
      "In file included from /Library/Frameworks/R.framework/Versions/3.2/Resources/library/StanHeaders/include/stan/math/prim/arr/functor/integrate_ode_rk45.hpp:13:\n",
      "In file included from /Library/Frameworks/R.framework/Versions/3.2/Resources/library/BH/include/boost/numeric/odeint.hpp:61:\n",
      "In file included from /Library/Frameworks/R.framework/Versions/3.2/Resources/library/BH/include/boost/numeric/odeint/util/multi_array_adaption.hpp:29:\n",
      "In file included from /Library/Frameworks/R.framework/Versions/3.2/Resources/library/BH/include/boost/multi_array.hpp:21:\n",
      "In file included from /Library/Frameworks/R.framework/Versions/3.2/Resources/library/BH/include/boost/multi_array/base.hpp:28:\n",
      "/Library/Frameworks/R.framework/Versions/3.2/Resources/library/BH/include/boost/multi_array/concept_checks.hpp:42:43: warning: unused typedef 'index_range' [-Wunused-local-typedef]\n",
      "      typedef typename Array::index_range index_range;\n",
      "                                          ^\n",
      "/Library/Frameworks/R.framework/Versions/3.2/Resources/library/BH/include/boost/multi_array/concept_checks.hpp:43:37: warning: unused typedef 'index' [-Wunused-local-typedef]\n",
      "      typedef typename Array::index index;\n",
      "                                    ^\n",
      "/Library/Frameworks/R.framework/Versions/3.2/Resources/library/BH/include/boost/multi_array/concept_checks.hpp:53:43: warning: unused typedef 'index_range' [-Wunused-local-typedef]\n",
      "      typedef typename Array::index_range index_range;\n",
      "                                          ^\n",
      "/Library/Frameworks/R.framework/Versions/3.2/Resources/library/BH/include/boost/multi_array/concept_checks.hpp:54:37: warning: unused typedef 'index' [-Wunused-local-typedef]\n",
      "      typedef typename Array::index index;\n",
      "                                    ^\n",
      "7 warnings generated.\n",
      "\n",
      "SAMPLING FOR MODEL 'chlamydia_lomax_distribution_men' NOW (CHAIN 1).\n",
      "\n",
      "Chain 1, Iteration:     1 / 22000 [  0%]  (Warmup)\n",
      "Chain 1, Iteration:  2001 / 22000 [  9%]  (Sampling)\n",
      "Chain 1, Iteration:  4200 / 22000 [ 19%]  (Sampling)\n",
      "Chain 1, Iteration:  6400 / 22000 [ 29%]  (Sampling)\n",
      "Chain 1, Iteration:  8600 / 22000 [ 39%]  (Sampling)\n",
      "Chain 1, Iteration: 10800 / 22000 [ 49%]  (Sampling)\n",
      "Chain 1, Iteration: 13000 / 22000 [ 59%]  (Sampling)\n",
      "Chain 1, Iteration: 15200 / 22000 [ 69%]  (Sampling)\n",
      "Chain 1, Iteration: 17400 / 22000 [ 79%]  (Sampling)\n",
      "Chain 1, Iteration: 19600 / 22000 [ 89%]  (Sampling)\n",
      "Chain 1, Iteration: 21800 / 22000 [ 99%]  (Sampling)\n",
      "Chain 1, Iteration: 22000 / 22000 [100%]  (Sampling)\n",
      " Elapsed Time: 0.113704 seconds (Warm-up)\n",
      "               1.16296 seconds (Sampling)\n",
      "               1.27666 seconds (Total)\n",
      "\n"
     ]
    },
    {
     "name": "stderr",
     "output_type": "stream",
     "text": [
      "The following numerical problems occured the indicated number of times after warmup on chain 1\n",
      "                                                                                            count\n",
      "Exception thrown at line 47: pareto_type_2_cdf: Scale parameter is inf, but must be finite!     9\n",
      "Exception thrown at line 36: pareto_type_2_cdf: Shape parameter is inf, but must be finite!     1\n",
      "When a numerical problem occurs, the Hamiltonian proposal gets rejected.\n",
      "See http://mc-stan.org/misc/warnings.html#exception-hamiltonian-proposal-rejected\n",
      "If the number in the 'count' column is small, do not ask about this message on stan-users.\n"
     ]
    },
    {
     "name": "stdout",
     "output_type": "stream",
     "text": [
      "\n",
      "SAMPLING FOR MODEL 'chlamydia_lomax_distribution_men' NOW (CHAIN 2).\n",
      "\n",
      "Chain 2, Iteration:     1 / 22000 [  0%]  (Warmup)\n",
      "Chain 2, Iteration:  2001 / 22000 [  9%]  (Sampling)\n",
      "Chain 2, Iteration:  4200 / 22000 [ 19%]  (Sampling)\n",
      "Chain 2, Iteration:  6400 / 22000 [ 29%]  (Sampling)\n",
      "Chain 2, Iteration:  8600 / 22000 [ 39%]  (Sampling)\n",
      "Chain 2, Iteration: 10800 / 22000 [ 49%]  (Sampling)\n",
      "Chain 2, Iteration: 13000 / 22000 [ 59%]  (Sampling)\n",
      "Chain 2, Iteration: 15200 / 22000 [ 69%]  (Sampling)\n",
      "Chain 2, Iteration: 17400 / 22000 [ 79%]  (Sampling)\n",
      "Chain 2, Iteration: 19600 / 22000 [ 89%]  (Sampling)\n",
      "Chain 2, Iteration: 21800 / 22000 [ 99%]  (Sampling)\n",
      "Chain 2, Iteration: 22000 / 22000 [100%]  (Sampling)\n",
      " Elapsed Time: 0.113854 seconds (Warm-up)\n",
      "               1.23634 seconds (Sampling)\n",
      "               1.35019 seconds (Total)\n",
      "\n"
     ]
    },
    {
     "name": "stderr",
     "output_type": "stream",
     "text": [
      "The following numerical problems occured the indicated number of times after warmup on chain 2\n",
      "                                                                                            count\n",
      "Exception thrown at line 47: pareto_type_2_cdf: Scale parameter is inf, but must be finite!     5\n",
      "Exception thrown at line 36: pareto_type_2_cdf: Scale parameter is 0, but must be > 0!          1\n",
      "When a numerical problem occurs, the Hamiltonian proposal gets rejected.\n",
      "See http://mc-stan.org/misc/warnings.html#exception-hamiltonian-proposal-rejected\n",
      "If the number in the 'count' column is small, do not ask about this message on stan-users.\n"
     ]
    },
    {
     "name": "stdout",
     "output_type": "stream",
     "text": [
      "\n",
      "SAMPLING FOR MODEL 'chlamydia_lomax_distribution_men' NOW (CHAIN 3).\n",
      "\n",
      "Chain 3, Iteration:     1 / 22000 [  0%]  (Warmup)\n",
      "Chain 3, Iteration:  2001 / 22000 [  9%]  (Sampling)\n",
      "Chain 3, Iteration:  4200 / 22000 [ 19%]  (Sampling)\n",
      "Chain 3, Iteration:  6400 / 22000 [ 29%]  (Sampling)\n",
      "Chain 3, Iteration:  8600 / 22000 [ 39%]  (Sampling)\n",
      "Chain 3, Iteration: 10800 / 22000 [ 49%]  (Sampling)\n",
      "Chain 3, Iteration: 13000 / 22000 [ 59%]  (Sampling)\n",
      "Chain 3, Iteration: 15200 / 22000 [ 69%]  (Sampling)\n",
      "Chain 3, Iteration: 17400 / 22000 [ 79%]  (Sampling)\n",
      "Chain 3, Iteration: 19600 / 22000 [ 89%]  (Sampling)\n",
      "Chain 3, Iteration: 21800 / 22000 [ 99%]  (Sampling)\n",
      "Chain 3, Iteration: 22000 / 22000 [100%]  (Sampling)\n",
      " Elapsed Time: 0.116073 seconds (Warm-up)\n",
      "               1.13696 seconds (Sampling)\n",
      "               1.25304 seconds (Total)\n",
      "\n"
     ]
    },
    {
     "name": "stderr",
     "output_type": "stream",
     "text": [
      "The following numerical problems occured the indicated number of times after warmup on chain 3\n",
      "                                                                                            count\n",
      "Exception thrown at line 47: pareto_type_2_cdf: Scale parameter is inf, but must be finite!    12\n",
      "Exception thrown at line 36: pareto_type_2_cdf: Shape parameter is 0, but must be > 0!          1\n",
      "When a numerical problem occurs, the Hamiltonian proposal gets rejected.\n",
      "See http://mc-stan.org/misc/warnings.html#exception-hamiltonian-proposal-rejected\n",
      "If the number in the 'count' column is small, do not ask about this message on stan-users.\n",
      "Warning message:\n",
      "\"There were 9 divergent transitions after warmup. Increasing adapt_delta above 0.8 may help. See\n",
      "http://mc-stan.org/misc/warnings.html#divergent-transitions-after-warmup\"Warning message:\n",
      "\"Examine the pairs() plot to diagnose sampling problems\n",
      "\""
     ]
    }
   ],
   "source": [
    "# Fit the Lomax model\n",
    "\n",
    "####################\n",
    "# initial values\n",
    "####################\n",
    "\n",
    "# Initial values - 0\n",
    "init0_lomax <- list(psi = 7/77, k = 1.01, theta = 0.5)\n",
    "\n",
    "# Initial values - 1\n",
    "init1_lomax <- list(psi = 0.9, k = 5, theta = 0.2)\n",
    "\n",
    "# Initial values - 2\n",
    "init2_lomax <- list(psi = 0.6, k = 10, theta = 0.1)\n",
    "\n",
    "####################\n",
    "# run the model\n",
    "####################\n",
    "\n",
    "fit_lomax <- stan(file = 'chlamydia_lomax_distribution_men.stan', data = chlamydia_dat_m, \n",
    "            iter = 22000, warmup = 2000, init=list(init0_lomax, init1_lomax, init2_lomax), chains = 3, seed=12345, \n",
    "            verbose = FALSE)\n",
    "\n",
    "op_lomax <- extract(fit_lomax)\n"
   ]
  },
  {
   "cell_type": "markdown",
   "metadata": {},
   "source": [
    "Calculate the DIC, in order to compare the Lomax model to the mixture of exponentials:"
   ]
  },
  {
   "cell_type": "code",
   "execution_count": 10,
   "metadata": {
    "collapsed": false
   },
   "outputs": [
    {
     "data": {
      "text/html": [
       "32.0310072028255"
      ],
      "text/latex": [
       "32.0310072028255"
      ],
      "text/markdown": [
       "32.0310072028255"
      ],
      "text/plain": [
       "[1] 32.03101"
      ]
     },
     "metadata": {},
     "output_type": "display_data"
    }
   ],
   "source": [
    "####################\n",
    "# DIC\n",
    "####################\n",
    "\n",
    "# expectation of the deviance\n",
    "Dbar <- mean(op_lomax$sumdev)\n",
    "\n",
    "# Effective number of parameters (Spiegelhalter)\n",
    "thetabar <- apply(op_lomax$theta,2,mean)\n",
    "D_thetabar <- -2*sum(\n",
    "    dbinom(chlamydia_dat_m$r, chlamydia_dat_m$n, thetabar, log=TRUE) -\n",
    "    dbinom(chlamydia_dat_m$r, chlamydia_dat_m$n, chlamydia_dat_m$r/chlamydia_dat_m$n, log=TRUE)\n",
    "    )\n",
    "p_DS <- Dbar - D_thetabar\n",
    "\n",
    "# Effective number of parameters (Gelman)\n",
    "p_DG <- 0.5 * var(op_lomax$sumdev)\n",
    "\n",
    "# choose your p_D\n",
    "p_D <- p_DS\n",
    "\n",
    "# DIC\n",
    "DIC <- p_D + Dbar\n",
    "DIC\n"
   ]
  },
  {
   "cell_type": "markdown",
   "metadata": {
    "collapsed": true
   },
   "source": [
    "This model is also inferior to the two-compartment mixture of exponentials, although it is better than the simple, one-compartment model."
   ]
  },
  {
   "cell_type": "code",
   "execution_count": null,
   "metadata": {
    "collapsed": true
   },
   "outputs": [],
   "source": []
  }
 ],
 "metadata": {
  "kernelspec": {
   "display_name": "R",
   "language": "R",
   "name": "ir"
  },
  "language_info": {
   "codemirror_mode": "r",
   "file_extension": ".r",
   "mimetype": "text/x-r-source",
   "name": "R",
   "pygments_lexer": "r",
   "version": "3.2.4"
  }
 },
 "nbformat": 4,
 "nbformat_minor": 0
}
