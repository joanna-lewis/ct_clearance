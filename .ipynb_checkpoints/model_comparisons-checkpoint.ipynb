{
 "cells": [
  {
   "cell_type": "code",
   "execution_count": 2,
   "metadata": {
    "collapsed": false
   },
   "outputs": [],
   "source": [
    "rm(list=ls())\n",
    "\n",
    "library(rstan)\n",
    "\n",
    "load(\"data_m.RData\")"
   ]
  },
  {
   "cell_type": "code",
   "execution_count": 3,
   "metadata": {
    "collapsed": true
   },
   "outputs": [],
   "source": [
    "####################\n",
    "# initial values\n",
    "####################\n",
    "\n",
    "# Initial values - 0\n",
    "init0 <- list(psi = 7/77, lambda = 0.74)\n",
    "\n",
    "# Initial values - 1\n",
    "init1 <- list(psi = 0.9, lambda = 0.7)\n",
    "\n",
    "# Initial values - 2\n",
    "init2 <- list(psi = 0.6, lambda = 0.1)\n"
   ]
  },
  {
   "cell_type": "code",
   "execution_count": 6,
   "metadata": {
    "collapsed": false
   },
   "outputs": [
    {
     "name": "stdout",
     "output_type": "stream",
     "text": [
      "In file included from file1f2677229d19.cpp:8:\n",
      "In file included from /Library/Frameworks/R.framework/Versions/3.2/Resources/library/StanHeaders/include/src/stan/model/model_header.hpp:4:\n",
      "In file included from /Library/Frameworks/R.framework/Versions/3.2/Resources/library/StanHeaders/include/stan/math.hpp:4:\n",
      "In file included from /Library/Frameworks/R.framework/Versions/3.2/Resources/library/StanHeaders/include/stan/math/rev/mat.hpp:4:\n",
      "In file included from /Library/Frameworks/R.framework/Versions/3.2/Resources/library/StanHeaders/include/stan/math/rev/core.hpp:42:\n",
      "/Library/Frameworks/R.framework/Versions/3.2/Resources/library/StanHeaders/include/stan/math/rev/core/set_zero_all_adjoints.hpp:14:17: warning: unused function 'set_zero_all_adjoints' [-Wunused-function]\n",
      "    static void set_zero_all_adjoints() {\n",
      "                ^\n",
      "In file included from file1f2677229d19.cpp:8:\n",
      "In file included from /Library/Frameworks/R.framework/Versions/3.2/Resources/library/StanHeaders/include/src/stan/model/model_header.hpp:4:\n",
      "In file included from /Library/Frameworks/R.framework/Versions/3.2/Resources/library/StanHeaders/include/stan/math.hpp:4:\n",
      "In file included from /Library/Frameworks/R.framework/Versions/3.2/Resources/library/StanHeaders/include/stan/math/rev/mat.hpp:4:\n",
      "In file included from /Library/Frameworks/R.framework/Versions/3.2/Resources/library/StanHeaders/include/stan/math/rev/core.hpp:43:\n",
      "/Library/Frameworks/R.framework/Versions/3.2/Resources/library/StanHeaders/include/stan/math/rev/core/set_zero_all_adjoints_nested.hpp:17:17: warning: 'static' function 'set_zero_all_adjoints_nested' declared in header file should be declared 'static inline' [-Wunneeded-internal-declaration]\n",
      "    static void set_zero_all_adjoints_nested() {\n",
      "                ^\n",
      "In file included from file1f2677229d19.cpp:8:\n",
      "In file included from /Library/Frameworks/R.framework/Versions/3.2/Resources/library/StanHeaders/include/src/stan/model/model_header.hpp:4:\n",
      "In file included from /Library/Frameworks/R.framework/Versions/3.2/Resources/library/StanHeaders/include/stan/math.hpp:4:\n",
      "In file included from /Library/Frameworks/R.framework/Versions/3.2/Resources/library/StanHeaders/include/stan/math/rev/mat.hpp:9:\n",
      "In file included from /Library/Frameworks/R.framework/Versions/3.2/Resources/library/StanHeaders/include/stan/math/prim/mat.hpp:54:\n",
      "/Library/Frameworks/R.framework/Versions/3.2/Resources/library/StanHeaders/include/stan/math/prim/mat/fun/autocorrelation.hpp:17:14: warning: function 'fft_next_good_size' is not needed and will not be emitted [-Wunneeded-internal-declaration]\n",
      "      size_t fft_next_good_size(size_t N) {\n",
      "             ^\n",
      "In file included from file1f2677229d19.cpp:8:\n",
      "In file included from /Library/Frameworks/R.framework/Versions/3.2/Resources/library/StanHeaders/include/src/stan/model/model_header.hpp:4:\n",
      "In file included from /Library/Frameworks/R.framework/Versions/3.2/Resources/library/StanHeaders/include/stan/math.hpp:4:\n",
      "In file included from /Library/Frameworks/R.framework/Versions/3.2/Resources/library/StanHeaders/include/stan/math/rev/mat.hpp:9:\n",
      "In file included from /Library/Frameworks/R.framework/Versions/3.2/Resources/library/StanHeaders/include/stan/math/prim/mat.hpp:235:\n",
      "In file included from /Library/Frameworks/R.framework/Versions/3.2/Resources/library/StanHeaders/include/stan/math/prim/arr.hpp:36:\n",
      "In file included from /Library/Frameworks/R.framework/Versions/3.2/Resources/library/StanHeaders/include/stan/math/prim/arr/functor/integrate_ode_rk45.hpp:13:\n",
      "In file included from /Library/Frameworks/R.framework/Versions/3.2/Resources/library/BH/include/boost/numeric/odeint.hpp:61:\n",
      "In file included from /Library/Frameworks/R.framework/Versions/3.2/Resources/library/BH/include/boost/numeric/odeint/util/multi_array_adaption.hpp:29:\n",
      "In file included from /Library/Frameworks/R.framework/Versions/3.2/Resources/library/BH/include/boost/multi_array.hpp:21:\n",
      "In file included from /Library/Frameworks/R.framework/Versions/3.2/Resources/library/BH/include/boost/multi_array/base.hpp:28:\n",
      "/Library/Frameworks/R.framework/Versions/3.2/Resources/library/BH/include/boost/multi_array/concept_checks.hpp:42:43: warning: unused typedef 'index_range' [-Wunused-local-typedef]\n",
      "      typedef typename Array::index_range index_range;\n",
      "                                          ^\n",
      "/Library/Frameworks/R.framework/Versions/3.2/Resources/library/BH/include/boost/multi_array/concept_checks.hpp:43:37: warning: unused typedef 'index' [-Wunused-local-typedef]\n",
      "      typedef typename Array::index index;\n",
      "                                    ^\n",
      "/Library/Frameworks/R.framework/Versions/3.2/Resources/library/BH/include/boost/multi_array/concept_checks.hpp:53:43: warning: unused typedef 'index_range' [-Wunused-local-typedef]\n",
      "      typedef typename Array::index_range index_range;\n",
      "                                          ^\n",
      "/Library/Frameworks/R.framework/Versions/3.2/Resources/library/BH/include/boost/multi_array/concept_checks.hpp:54:37: warning: unused typedef 'index' [-Wunused-local-typedef]\n",
      "      typedef typename Array::index index;\n",
      "                                    ^\n",
      "7 warnings generated.\n",
      "\n",
      "SAMPLING FOR MODEL 'chlamydia_one_exponential_men' NOW (CHAIN 1).\n",
      "\n",
      "Chain 1, Iteration:     1 / 22000 [  0%]  (Warmup)\n",
      "Chain 1, Iteration:  2001 / 22000 [  9%]  (Sampling)\n",
      "Chain 1, Iteration:  4200 / 22000 [ 19%]  (Sampling)\n",
      "Chain 1, Iteration:  6400 / 22000 [ 29%]  (Sampling)\n",
      "Chain 1, Iteration:  8600 / 22000 [ 39%]  (Sampling)\n",
      "Chain 1, Iteration: 10800 / 22000 [ 49%]  (Sampling)\n",
      "Chain 1, Iteration: 13000 / 22000 [ 59%]  (Sampling)\n",
      "Chain 1, Iteration: 15200 / 22000 [ 69%]  (Sampling)\n",
      "Chain 1, Iteration: 17400 / 22000 [ 79%]  (Sampling)\n",
      "Chain 1, Iteration: 19600 / 22000 [ 89%]  (Sampling)\n",
      "Chain 1, Iteration: 21800 / 22000 [ 99%]  (Sampling)\n",
      "Chain 1, Iteration: 22000 / 22000 [100%]  (Sampling)\n",
      " Elapsed Time: 0.06839 seconds (Warm-up)\n",
      "               0.652307 seconds (Sampling)\n",
      "               0.720697 seconds (Total)\n",
      "\n",
      "\n",
      "SAMPLING FOR MODEL 'chlamydia_one_exponential_men' NOW (CHAIN 2).\n",
      "\n",
      "Chain 2, Iteration:     1 / 22000 [  0%]  (Warmup)\n",
      "Chain 2, Iteration:  2001 / 22000 [  9%]  (Sampling)\n",
      "Chain 2, Iteration:  4200 / 22000 [ 19%]  (Sampling)\n",
      "Chain 2, Iteration:  6400 / 22000 [ 29%]  (Sampling)\n",
      "Chain 2, Iteration:  8600 / 22000 [ 39%]  (Sampling)\n",
      "Chain 2, Iteration: 10800 / 22000 [ 49%]  (Sampling)\n",
      "Chain 2, Iteration: 13000 / 22000 [ 59%]  (Sampling)\n",
      "Chain 2, Iteration: 15200 / 22000 [ 69%]  (Sampling)\n",
      "Chain 2, Iteration: 17400 / 22000 [ 79%]  (Sampling)\n",
      "Chain 2, Iteration: 19600 / 22000 [ 89%]  (Sampling)\n",
      "Chain 2, Iteration: 21800 / 22000 [ 99%]  (Sampling)\n",
      "Chain 2, Iteration: 22000 / 22000 [100%]  (Sampling)\n",
      " Elapsed Time: 0.068856 seconds (Warm-up)\n",
      "               0.667344 seconds (Sampling)\n",
      "               0.7362 seconds (Total)\n",
      "\n",
      "\n",
      "SAMPLING FOR MODEL 'chlamydia_one_exponential_men' NOW (CHAIN 3).\n",
      "\n",
      "Chain 3, Iteration:     1 / 22000 [  0%]  (Warmup)\n",
      "Chain 3, Iteration:  2001 / 22000 [  9%]  (Sampling)\n",
      "Chain 3, Iteration:  4200 / 22000 [ 19%]  (Sampling)\n",
      "Chain 3, Iteration:  6400 / 22000 [ 29%]  (Sampling)\n",
      "Chain 3, Iteration:  8600 / 22000 [ 39%]  (Sampling)\n",
      "Chain 3, Iteration: 10800 / 22000 [ 49%]  (Sampling)\n",
      "Chain 3, Iteration: 13000 / 22000 [ 59%]  (Sampling)\n",
      "Chain 3, Iteration: 15200 / 22000 [ 69%]  (Sampling)\n",
      "Chain 3, Iteration: 17400 / 22000 [ 79%]  (Sampling)\n",
      "Chain 3, Iteration: 19600 / 22000 [ 89%]  (Sampling)\n",
      "Chain 3, Iteration: 21800 / 22000 [ 99%]  (Sampling)\n",
      "Chain 3, Iteration: 22000 / 22000 [100%]  (Sampling)\n",
      " Elapsed Time: 0.064865 seconds (Warm-up)\n",
      "               0.678696 seconds (Sampling)\n",
      "               0.743561 seconds (Total)\n",
      "\n"
     ]
    }
   ],
   "source": [
    "fit1 <- stan(file = 'chlamydia_one_exponential_men.stan', data = chlamydia_dat_m, \n",
    "            iter = 22000, warmup = 2000, init=list(init0, init1, init2), chains = 3, seed=12345)\n"
   ]
  },
  {
   "cell_type": "code",
   "execution_count": 7,
   "metadata": {
    "collapsed": true
   },
   "outputs": [],
   "source": [
    "op_m <- extract(fit1)"
   ]
  },
  {
   "cell_type": "code",
   "execution_count": 8,
   "metadata": {
    "collapsed": false
   },
   "outputs": [
    {
     "data": {
      "text/html": [
       "<span style=white-space:pre-wrap>'Posterior mean residual deviance:  56.8 .'</span>"
      ],
      "text/latex": [
       "'Posterior mean residual deviance:  56.8 .'"
      ],
      "text/markdown": [
       "<span style=white-space:pre-wrap>'Posterior mean residual deviance:  56.8 .'</span>"
      ],
      "text/plain": [
       "[1] \"Posterior mean residual deviance:  56.8 .\""
      ]
     },
     "metadata": {},
     "output_type": "display_data"
    },
    {
     "data": {
      "text/html": [
       "<span style=white-space:pre-wrap>'DIC:  59 .'</span>"
      ],
      "text/latex": [
       "'DIC:  59 .'"
      ],
      "text/markdown": [
       "<span style=white-space:pre-wrap>'DIC:  59 .'</span>"
      ],
      "text/plain": [
       "[1] \"DIC:  59 .\""
      ]
     },
     "metadata": {},
     "output_type": "display_data"
    }
   ],
   "source": [
    "# expectation of the deviance\n",
    "Dbar_m <- mean(op_m$sumdev)\n",
    "\n",
    "# Effective number of parameters (Spiegelhalter)\n",
    "thetabar <- apply(op_m$theta,2,mean)\n",
    "D_thetabar <- -2*sum(\n",
    "    dbinom(chlamydia_dat_m$r, chlamydia_dat_m$n, thetabar, log=TRUE) -\n",
    "    dbinom(chlamydia_dat_m$r, chlamydia_dat_m$n, chlamydia_dat_m$r/chlamydia_dat_m$n, log=TRUE)\t\n",
    "    )\n",
    "p_DS_m <- Dbar_m - D_thetabar\n",
    "\n",
    "# Effective number of parameters (Gelman)\n",
    "p_DG_m <- 0.5 * var(op_m$sumdev)\n",
    "\n",
    "# choose your p_D\n",
    "p_Dm <- p_DS_m\n",
    "\n",
    "# DIC\n",
    "DIC_m <- p_Dm + Dbar_m\n",
    "\n",
    "paste('Posterior mean residual deviance: ', round(Dbar_m,1), '.', collapse=\"\")\n",
    "paste('DIC: ', round(DIC_m,1), '.', collapse=\"\")"
   ]
  },
  {
   "cell_type": "markdown",
   "metadata": {},
   "source": [
    "## Three-compartment model"
   ]
  },
  {
   "cell_type": "code",
   "execution_count": 10,
   "metadata": {
    "collapsed": true
   },
   "outputs": [],
   "source": [
    "# Initial values - 0\n",
    "init0 <- list(psi = 7/77, lambda_mid = 9.5, lambda_slow = 0.64, p1 = 0.19, p2=0.31)\n",
    "\n",
    "# Initial values - 1\n",
    "init1 <- list(psi = 0.9, lambda_mid = 15, lambda_slow = 0.1, p1 = 0.3, p2=0.31)\n",
    "\n",
    "# Initial values - 2\n",
    "init2 <- list(psi = 0.6,lambda_mid = 5, lambda_slow = 1, p1 = 0.6, p2=0.1)\n"
   ]
  },
  {
   "cell_type": "code",
   "execution_count": 11,
   "metadata": {
    "collapsed": false
   },
   "outputs": [
    {
     "name": "stdout",
     "output_type": "stream",
     "text": [
      "In file included from file1f266b39ee9c.cpp:8:\n",
      "In file included from /Library/Frameworks/R.framework/Versions/3.2/Resources/library/StanHeaders/include/src/stan/model/model_header.hpp:4:\n",
      "In file included from /Library/Frameworks/R.framework/Versions/3.2/Resources/library/StanHeaders/include/stan/math.hpp:4:\n",
      "In file included from /Library/Frameworks/R.framework/Versions/3.2/Resources/library/StanHeaders/include/stan/math/rev/mat.hpp:4:\n",
      "In file included from /Library/Frameworks/R.framework/Versions/3.2/Resources/library/StanHeaders/include/stan/math/rev/core.hpp:42:\n",
      "/Library/Frameworks/R.framework/Versions/3.2/Resources/library/StanHeaders/include/stan/math/rev/core/set_zero_all_adjoints.hpp:14:17: warning: unused function 'set_zero_all_adjoints' [-Wunused-function]\n",
      "    static void set_zero_all_adjoints() {\n",
      "                ^\n",
      "In file included from file1f266b39ee9c.cpp:8:\n",
      "In file included from /Library/Frameworks/R.framework/Versions/3.2/Resources/library/StanHeaders/include/src/stan/model/model_header.hpp:4:\n",
      "In file included from /Library/Frameworks/R.framework/Versions/3.2/Resources/library/StanHeaders/include/stan/math.hpp:4:\n",
      "In file included from /Library/Frameworks/R.framework/Versions/3.2/Resources/library/StanHeaders/include/stan/math/rev/mat.hpp:4:\n",
      "In file included from /Library/Frameworks/R.framework/Versions/3.2/Resources/library/StanHeaders/include/stan/math/rev/core.hpp:43:\n",
      "/Library/Frameworks/R.framework/Versions/3.2/Resources/library/StanHeaders/include/stan/math/rev/core/set_zero_all_adjoints_nested.hpp:17:17: warning: 'static' function 'set_zero_all_adjoints_nested' declared in header file should be declared 'static inline' [-Wunneeded-internal-declaration]\n",
      "    static void set_zero_all_adjoints_nested() {\n",
      "                ^\n",
      "In file included from file1f266b39ee9c.cpp:8:\n",
      "In file included from /Library/Frameworks/R.framework/Versions/3.2/Resources/library/StanHeaders/include/src/stan/model/model_header.hpp:4:\n",
      "In file included from /Library/Frameworks/R.framework/Versions/3.2/Resources/library/StanHeaders/include/stan/math.hpp:4:\n",
      "In file included from /Library/Frameworks/R.framework/Versions/3.2/Resources/library/StanHeaders/include/stan/math/rev/mat.hpp:9:\n",
      "In file included from /Library/Frameworks/R.framework/Versions/3.2/Resources/library/StanHeaders/include/stan/math/prim/mat.hpp:54:\n",
      "/Library/Frameworks/R.framework/Versions/3.2/Resources/library/StanHeaders/include/stan/math/prim/mat/fun/autocorrelation.hpp:17:14: warning: function 'fft_next_good_size' is not needed and will not be emitted [-Wunneeded-internal-declaration]\n",
      "      size_t fft_next_good_size(size_t N) {\n",
      "             ^\n",
      "In file included from file1f266b39ee9c.cpp:8:\n",
      "In file included from /Library/Frameworks/R.framework/Versions/3.2/Resources/library/StanHeaders/include/src/stan/model/model_header.hpp:4:\n",
      "In file included from /Library/Frameworks/R.framework/Versions/3.2/Resources/library/StanHeaders/include/stan/math.hpp:4:\n",
      "In file included from /Library/Frameworks/R.framework/Versions/3.2/Resources/library/StanHeaders/include/stan/math/rev/mat.hpp:9:\n",
      "In file included from /Library/Frameworks/R.framework/Versions/3.2/Resources/library/StanHeaders/include/stan/math/prim/mat.hpp:235:\n",
      "In file included from /Library/Frameworks/R.framework/Versions/3.2/Resources/library/StanHeaders/include/stan/math/prim/arr.hpp:36:\n",
      "In file included from /Library/Frameworks/R.framework/Versions/3.2/Resources/library/StanHeaders/include/stan/math/prim/arr/functor/integrate_ode_rk45.hpp:13:\n",
      "In file included from /Library/Frameworks/R.framework/Versions/3.2/Resources/library/BH/include/boost/numeric/odeint.hpp:61:\n",
      "In file included from /Library/Frameworks/R.framework/Versions/3.2/Resources/library/BH/include/boost/numeric/odeint/util/multi_array_adaption.hpp:29:\n",
      "In file included from /Library/Frameworks/R.framework/Versions/3.2/Resources/library/BH/include/boost/multi_array.hpp:21:\n",
      "In file included from /Library/Frameworks/R.framework/Versions/3.2/Resources/library/BH/include/boost/multi_array/base.hpp:28:\n",
      "/Library/Frameworks/R.framework/Versions/3.2/Resources/library/BH/include/boost/multi_array/concept_checks.hpp:42:43: warning: unused typedef 'index_range' [-Wunused-local-typedef]\n",
      "      typedef typename Array::index_range index_range;\n",
      "                                          ^\n",
      "/Library/Frameworks/R.framework/Versions/3.2/Resources/library/BH/include/boost/multi_array/concept_checks.hpp:43:37: warning: unused typedef 'index' [-Wunused-local-typedef]\n",
      "      typedef typename Array::index index;\n",
      "                                    ^\n",
      "/Library/Frameworks/R.framework/Versions/3.2/Resources/library/BH/include/boost/multi_array/concept_checks.hpp:53:43: warning: unused typedef 'index_range' [-Wunused-local-typedef]\n",
      "      typedef typename Array::index_range index_range;\n",
      "                                          ^\n",
      "/Library/Frameworks/R.framework/Versions/3.2/Resources/library/BH/include/boost/multi_array/concept_checks.hpp:54:37: warning: unused typedef 'index' [-Wunused-local-typedef]\n",
      "      typedef typename Array::index index;\n",
      "                                    ^\n",
      "7 warnings generated.\n",
      "\n",
      "SAMPLING FOR MODEL 'chlamydia_three_exponentials_men' NOW (CHAIN 1).\n",
      "\n",
      "Chain 1, Iteration:     1 / 22000 [  0%]  (Warmup)\n",
      "Chain 1, Iteration:  2001 / 22000 [  9%]  (Sampling)\n",
      "Chain 1, Iteration:  4200 / 22000 [ 19%]  (Sampling)\n",
      "Chain 1, Iteration:  6400 / 22000 [ 29%]  (Sampling)\n",
      "Chain 1, Iteration:  8600 / 22000 [ 39%]  (Sampling)\n",
      "Chain 1, Iteration: 10800 / 22000 [ 49%]  (Sampling)\n",
      "Chain 1, Iteration: 13000 / 22000 [ 59%]  (Sampling)\n",
      "Chain 1, Iteration: 15200 / 22000 [ 69%]  (Sampling)\n",
      "Chain 1, Iteration: 17400 / 22000 [ 79%]  (Sampling)\n",
      "Chain 1, Iteration: 19600 / 22000 [ 89%]  (Sampling)\n",
      "Chain 1, Iteration: 21800 / 22000 [ 99%]  (Sampling)\n",
      "Chain 1, Iteration: 22000 / 22000 [100%]  (Sampling)\n",
      " Elapsed Time: 31.8356 seconds (Warm-up)\n",
      "               260.919 seconds (Sampling)\n",
      "               292.755 seconds (Total)\n",
      "\n"
     ]
    },
    {
     "name": "stderr",
     "output_type": "stream",
     "text": [
      "The following numerical problems occured the indicated number of times after warmup on chain 1\n",
      "                                                                                             count\n",
      "Exception thrown at line 124: uniform_log: Upper bound parameter is inf, but must be finite! 16630\n",
      "When a numerical problem occurs, the Hamiltonian proposal gets rejected.\n",
      "See http://mc-stan.org/misc/warnings.html#exception-hamiltonian-proposal-rejected\n",
      "If the number in the 'count' column is small, do not ask about this message on stan-users.\n"
     ]
    },
    {
     "name": "stdout",
     "output_type": "stream",
     "text": [
      "\n",
      "SAMPLING FOR MODEL 'chlamydia_three_exponentials_men' NOW (CHAIN 2).\n",
      "\n",
      "Chain 2, Iteration:     1 / 22000 [  0%]  (Warmup)\n",
      "Chain 2, Iteration:  2001 / 22000 [  9%]  (Sampling)\n",
      "Chain 2, Iteration:  4200 / 22000 [ 19%]  (Sampling)\n",
      "Chain 2, Iteration:  6400 / 22000 [ 29%]  (Sampling)\n",
      "Chain 2, Iteration:  8600 / 22000 [ 39%]  (Sampling)\n",
      "Chain 2, Iteration: 10800 / 22000 [ 49%]  (Sampling)\n",
      "Chain 2, Iteration: 13000 / 22000 [ 59%]  (Sampling)\n",
      "Chain 2, Iteration: 15200 / 22000 [ 69%]  (Sampling)\n",
      "Chain 2, Iteration: 17400 / 22000 [ 79%]  (Sampling)\n",
      "Chain 2, Iteration: 19600 / 22000 [ 89%]  (Sampling)\n",
      "Chain 2, Iteration: 21800 / 22000 [ 99%]  (Sampling)\n",
      "Chain 2, Iteration: 22000 / 22000 [100%]  (Sampling)\n",
      " Elapsed Time: 29.3472 seconds (Warm-up)\n",
      "               324.809 seconds (Sampling)\n",
      "               354.156 seconds (Total)\n",
      "\n"
     ]
    },
    {
     "name": "stderr",
     "output_type": "stream",
     "text": [
      "The following numerical problems occured the indicated number of times after warmup on chain 2\n",
      "                                                                                                     count\n",
      "Exception thrown at line 124: uniform_log: Upper bound parameter is inf, but must be finite!         18153\n",
      "Exception thrown at line 124: uniform_log: Upper bound parameter is -12.6209, but must be greater th     1\n",
      "Exception thrown at line 124: uniform_log: Upper bound parameter is -94.4148, but must be greater th     1\n",
      "When a numerical problem occurs, the Hamiltonian proposal gets rejected.\n",
      "See http://mc-stan.org/misc/warnings.html#exception-hamiltonian-proposal-rejected\n",
      "If the number in the 'count' column is small, do not ask about this message on stan-users.\n"
     ]
    },
    {
     "name": "stdout",
     "output_type": "stream",
     "text": [
      "\n",
      "SAMPLING FOR MODEL 'chlamydia_three_exponentials_men' NOW (CHAIN 3).\n",
      "\n",
      "Chain 3, Iteration:     1 / 22000 [  0%]  (Warmup)\n",
      "Chain 3, Iteration:  2001 / 22000 [  9%]  (Sampling)\n",
      "Chain 3, Iteration:  4200 / 22000 [ 19%]  (Sampling)\n",
      "Chain 3, Iteration:  6400 / 22000 [ 29%]  (Sampling)\n",
      "Chain 3, Iteration:  8600 / 22000 [ 39%]  (Sampling)\n",
      "Chain 3, Iteration: 10800 / 22000 [ 49%]  (Sampling)\n",
      "Chain 3, Iteration: 13000 / 22000 [ 59%]  (Sampling)\n",
      "Chain 3, Iteration: 15200 / 22000 [ 69%]  (Sampling)\n",
      "Chain 3, Iteration: 17400 / 22000 [ 79%]  (Sampling)\n",
      "Chain 3, Iteration: 19600 / 22000 [ 89%]  (Sampling)\n",
      "Chain 3, Iteration: 21800 / 22000 [ 99%]  (Sampling)\n",
      "Chain 3, Iteration: 22000 / 22000 [100%]  (Sampling)\n",
      " Elapsed Time: 28.5593 seconds (Warm-up)\n",
      "               251.671 seconds (Sampling)\n",
      "               280.23 seconds (Total)\n",
      "\n"
     ]
    },
    {
     "name": "stderr",
     "output_type": "stream",
     "text": [
      "The following numerical problems occured the indicated number of times after warmup on chain 3\n",
      "                                                                                                     count\n",
      "Exception thrown at line 124: uniform_log: Upper bound parameter is inf, but must be finite!         17904\n",
      "Exception thrown at line 122: dirichlet_log: probabilities is not a valid simplex. probabilities[3]      1\n",
      "When a numerical problem occurs, the Hamiltonian proposal gets rejected.\n",
      "See http://mc-stan.org/misc/warnings.html#exception-hamiltonian-proposal-rejected\n",
      "If the number in the 'count' column is small, do not ask about this message on stan-users.\n",
      "Warning message:\n",
      "\"There were 53311 divergent transitions after warmup. Increasing adapt_delta above 0.8 may help. See\n",
      "http://mc-stan.org/misc/warnings.html#divergent-transitions-after-warmup\"Warning message:\n",
      "\"Examine the pairs() plot to diagnose sampling problems\n",
      "\""
     ]
    }
   ],
   "source": [
    "fit3 <- stan(file = 'chlamydia_three_exponentials_men.stan', data = chlamydia_dat_m, \n",
    "            iter = 22000, warmup = 2000, init=list(init0, init1, init2), chains = 3, seed=12345)\n"
   ]
  },
  {
   "cell_type": "markdown",
   "metadata": {
    "collapsed": true
   },
   "source": [
    "## A model allowing for a distribution of clearance rates in the population\n",
    "\n",
    "An alternative to the mixture-of-exponentials model is one in which the clearance rates take some distribution within the population: for example, a gamma distribution.\n",
    "\n",
    "If $\\lambda \\sim$ Gamma( scale = k, shape = $\\theta$ )\n",
    "\n",
    "and X $\\sim$ Exponential( rate = $\\lambda$ )\n",
    "\n",
    "then X $\\sim$ Lomax( scale = 1/k, shape = $\\theta$).\n"
   ]
  },
  {
   "cell_type": "code",
   "execution_count": null,
   "metadata": {
    "collapsed": true
   },
   "outputs": [],
   "source": []
  }
 ],
 "metadata": {
  "kernelspec": {
   "display_name": "R",
   "language": "R",
   "name": "ir"
  },
  "language_info": {
   "codemirror_mode": "r",
   "file_extension": ".r",
   "mimetype": "text/x-r-source",
   "name": "R",
   "pygments_lexer": "r",
   "version": "3.2.4"
  }
 },
 "nbformat": 4,
 "nbformat_minor": 0
}
